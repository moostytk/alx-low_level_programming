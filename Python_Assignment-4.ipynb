{
 "cells": [
  {
   "cell_type": "code",
   "execution_count": 1,
   "id": "3be6a8bc",
   "metadata": {},
   "outputs": [
    {
     "name": "stdout",
     "output_type": "stream",
     "text": [
      "Enter the Number 1234\n",
      "Reversed Number is 4321\n"
     ]
    }
   ],
   "source": [
    "#1.Python program to extract and print digits in reverse order of a number.\n",
    "num = int(input(\"Enter the Number \"))\n",
    "reversed_num = 0\n",
    "while num != 0:\n",
    "    digit = num % 10\n",
    "    reversed_num = reversed_num * 10 + digit\n",
    "    num //= 10\n",
    "print(\"Reversed Number is \" + str(reversed_num))"
   ]
  },
  {
   "cell_type": "code",
   "execution_count": 3,
   "id": "89c00589",
   "metadata": {},
   "outputs": [
    {
     "name": "stdout",
     "output_type": "stream",
     "text": [
      "Enter the base number 5\n",
      "Enter the power 4\n",
      "Answer is  625\n"
     ]
    }
   ],
   "source": [
    "#2.. Python program to find the power of a number using loop.\n",
    "num = int(input(\"Enter the base number \"))\n",
    "pw = int(input(\"Enter the power \"))\n",
    "kj = 1\n",
    "for n in range(pw):\n",
    "    kj = kj*num\n",
    "print(\"Answer is \", kj)"
   ]
  },
  {
   "cell_type": "code",
   "execution_count": 4,
   "id": "84903f18",
   "metadata": {},
   "outputs": [
    {
     "name": "stdout",
     "output_type": "stream",
     "text": [
      "Enter the person age 20\n",
      "Person is Eligible for Voting! \n"
     ]
    }
   ],
   "source": [
    "#3.Implementing a program, it will read age from the user and check whether person is eligible for voting or not.\n",
    "age = int(input(\"Enter the person age \"))\n",
    "if age >= 18:\n",
    "    print(\"Person is Eligible for Voting! \")\n",
    "else:\n",
    "    print(\"Person is not eligible for Voting! \")"
   ]
  },
  {
   "cell_type": "code",
   "execution_count": 5,
   "id": "4161b8a7",
   "metadata": {},
   "outputs": [
    {
     "name": "stdout",
     "output_type": "stream",
     "text": [
      "Enter the Number 12345\n",
      "15\n"
     ]
    }
   ],
   "source": [
    "#4.. Find sum of all digits of a number.\n",
    "def getSum(n):\n",
    "    sum = 0\n",
    "    for digit in str(n):\n",
    "        sum += int(digit)\n",
    "    return sum\n",
    "n = int(input(\"Enter the Number \"))\n",
    "print(getSum(n))"
   ]
  },
  {
   "cell_type": "code",
   "execution_count": 6,
   "id": "458f2efc",
   "metadata": {},
   "outputs": [
    {
     "name": "stdout",
     "output_type": "stream",
     "text": [
      "Enter the First Number 10\n",
      "Enter the Second Number 15\n",
      "Before Swapping, A =  10 B =  15\n",
      "After Swapping, A =  15 B =  10\n"
     ]
    }
   ],
   "source": [
    "#5.Program to swap two number using third variable.\n",
    "A = int(input(\"Enter the First Number \"))\n",
    "B = int(input(\"Enter the Second Number \"))\n",
    "print(\"Before Swapping, A = \", A, \"B = \", B)\n",
    "temp = A\n",
    "A = B\n",
    "B = temp\n",
    "print(\"After Swapping, A = \", A, \"B = \", B)"
   ]
  },
  {
   "cell_type": "code",
   "execution_count": 7,
   "id": "2fe8312a",
   "metadata": {},
   "outputs": [
    {
     "name": "stdout",
     "output_type": "stream",
     "text": [
      "Enter the String with spaces Hello my name is Sahil\n",
      "Enter the character to replace with #\n",
      "After replacing the character \n",
      "Hello#my#name#is#Sahil\n"
     ]
    }
   ],
   "source": [
    "#6.Write a to replace the string space with given character.\n",
    "str = input(\"Enter the String with spaces \")\n",
    "rep = input(\"Enter the character to replace with \")\n",
    "str = str.replace(' ',rep)\n",
    "print(\"After replacing the character \")\n",
    "print(str)"
   ]
  },
  {
   "cell_type": "code",
   "execution_count": 8,
   "id": "820c62b2",
   "metadata": {},
   "outputs": [
    {
     "name": "stdout",
     "output_type": "stream",
     "text": [
      "Sahil\n"
     ]
    }
   ],
   "source": [
    "#.7Explain How can you capitalize the first letter of a string?\n",
    "name = \"sahil\"\n",
    "print(name.capitalize())"
   ]
  },
  {
   "cell_type": "code",
   "execution_count": 2,
   "id": "a27ec205",
   "metadata": {},
   "outputs": [
    {
     "name": "stdout",
     "output_type": "stream",
     "text": [
      "Enter stringamigo\n",
      "ogima\n"
     ]
    }
   ],
   "source": [
    "#8.How to Reverse a String in Python?\n",
    "s=input(\"Enter string\")\n",
    "print(s[::-1])"
   ]
  },
  {
   "cell_type": "code",
   "execution_count": 4,
   "id": "8d652bf7",
   "metadata": {},
   "outputs": [
    {
     "name": "stdout",
     "output_type": "stream",
     "text": [
      "Enter string: amrita\n",
      "mrit\n"
     ]
    }
   ],
   "source": [
    "#9.What is slicing in Python? It means takin some part of a list, array etc\n",
    "s=input(\"Enter string: \")\n",
    "print(s[1:5])"
   ]
  },
  {
   "cell_type": "code",
   "execution_count": null,
   "id": "b3882f32",
   "metadata": {},
   "outputs": [],
   "source": [
    "#10.What is the difference between Python Arrays and lists?\n",
    "#Arrays\n",
    "#i)Can consist of elements belonging to different data types.\n",
    "#ii)Need to use looping to print the elements.\n",
    "#iii)Need to import array module to use.\n",
    "#Lists\n",
    "#i)Can have elements belonging to different data types.\n",
    "#ii)Can print all the elements withot looping.\n",
    "#iii)No need to import separate module."
   ]
  }
 ],
 "metadata": {
  "kernelspec": {
   "display_name": "Python 3 (ipykernel)",
   "language": "python",
   "name": "python3"
  },
  "language_info": {
   "codemirror_mode": {
    "name": "ipython",
    "version": 3
   },
   "file_extension": ".py",
   "mimetype": "text/x-python",
   "name": "python",
   "nbconvert_exporter": "python",
   "pygments_lexer": "ipython3",
   "version": "3.9.12"
  }
 },
 "nbformat": 4,
 "nbformat_minor": 5
}
