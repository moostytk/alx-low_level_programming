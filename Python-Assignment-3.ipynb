{
 "cells": [
  {
   "cell_type": "code",
   "execution_count": 1,
   "id": "e5408906",
   "metadata": {},
   "outputs": [
    {
     "name": "stdout",
     "output_type": "stream",
     "text": [
      "Yeah ! Your answer is : 1\n"
     ]
    }
   ],
   "source": [
    "#1.Write a small code to illustrate try and except statements in Python\n",
    "def divide(x, y):\n",
    "\ttry:\n",
    "\t\t# Floor Division : Gives only Fractional Part as Answer\n",
    "\t\tresult = x // y\n",
    "\t\tprint(\"Yeah ! Your answer is :\", result)\n",
    "\texcept ZeroDivisionError:\n",
    "\t\tprint(\"Sorry ! You are dividing by zero \")\n",
    "\n",
    "# Look at parameters and note the working of Program\n",
    "divide(3, 2)\n"
   ]
  },
  {
   "cell_type": "code",
   "execution_count": 2,
   "id": "ef2ee509",
   "metadata": {},
   "outputs": [
    {
     "name": "stdout",
     "output_type": "stream",
     "text": [
      "Enter an integer: 6\n",
      "The decimal value of 6 is:\n",
      "0o6 in octal.\n",
      "0x6 in hexadecimal.\n"
     ]
    }
   ],
   "source": [
    "#2.Write a program to enter a number in Python and print its octal and hexadecimal equivalent\n",
    "dec = int(input(\"Enter an integer: \"))\n",
    "print(\"The decimal value of\",dec,\"is:\")\n",
    "print(oct(dec),\"in octal.\")\n",
    "print(hex(dec),\"in hexadecimal.\")"
   ]
  },
  {
   "cell_type": "code",
   "execution_count": 3,
   "id": "e02c8543",
   "metadata": {},
   "outputs": [
    {
     "name": "stdout",
     "output_type": "stream",
     "text": [
      "Enter the Sports % of the student 50\n",
      "Enter the Activities % of the student 7\n",
      "Enter the Examination % of the student 80\n",
      "The final Percentage of the student is  52.1\n"
     ]
    }
   ],
   "source": [
    "#3. Write a program to calculate a students result based on two examinations, 1 sports event, and 3 activities conducted. The weightage of activities= 30%, sports= 20% , and examinations= 50%.\n",
    "sports_res = int(input(\"Enter the Sports % of the student \"))\n",
    "acti_res = int(input(\"Enter the Activities % of the student \"))\n",
    "exam_res = int(input(\"Enter the Examination % of the student \"))\n",
    "print(\"The final Percentage of the student is \", (sports_res/100 *20)+(acti_res/100*30)+(exam_res/100*50))"
   ]
  },
  {
   "cell_type": "code",
   "execution_count": 4,
   "id": "88020a5a",
   "metadata": {},
   "outputs": [
    {
     "name": "stdout",
     "output_type": "stream",
     "text": [
      "Can't divide by zero\n",
      "This is always executed\n"
     ]
    }
   ],
   "source": [
    "#4.Write a program to catch a Divide by zero exception. Add a finally block too.\n",
    "try:\n",
    "\tk = 5//0 # raises divide by zero exception.\n",
    "\tprint(k)\n",
    "\t\n",
    "# handles zerodivision exception\t\n",
    "except ZeroDivisionError:\n",
    "\tprint(\"Can't divide by zero\")\n",
    "\t\t\n",
    "finally:\n",
    "\t# this block is always executed\n",
    "\t# regardless of exception generation.\n",
    "\tprint('This is always executed')\n"
   ]
  },
  {
   "cell_type": "code",
   "execution_count": 6,
   "id": "82e5db3a",
   "metadata": {},
   "outputs": [
    {
     "name": "stdout",
     "output_type": "stream",
     "text": [
      "Enter the number of elements to be inserted: 3\n",
      "Enter element: 3\n",
      "Enter element: 3\n",
      "Enter element: 5\n",
      "Mean of elements in the list 3.67\n"
     ]
    }
   ],
   "source": [
    "#5.construct a Python program that calculates the mean of numbers in a list?\n",
    "n=int(input(\"Enter the number of elements to be inserted: \"))\n",
    "a=[]\n",
    "for i in range(0,n):\n",
    "    elem=int(input(\"Enter element: \"))\n",
    "    a.append(elem)\n",
    "mean=sum(a)/n\n",
    "print(\"Mean of elements in the list\",round(mean,2))"
   ]
  },
  {
   "cell_type": "code",
   "execution_count": 14,
   "id": "1ba65f59",
   "metadata": {},
   "outputs": [
    {
     "name": "stdout",
     "output_type": "stream",
     "text": [
      "Enter the string HELLO I AM SAHIL\n",
      "Original string is  HELLO I AM SAHIL\n",
      "After removing all the consonants from the string  EOIAAI\n"
     ]
    }
   ],
   "source": [
    "#6.Write a program to make a new string with all the consonents deleted from the string \"Hello, hai have a good day for you\".\n",
    "str = input(\"Enter the string \")\n",
    "res = \"\".join([chr for chr in str if chr in \"aeiouAEIOU\"])\n",
    "print(\"Original string is \", str)\n",
    "print(\"After removing all the consonants from the string \", res)"
   ]
  },
  {
   "cell_type": "code",
   "execution_count": 15,
   "id": "7ac3200d",
   "metadata": {},
   "outputs": [
    {
     "name": "stdout",
     "output_type": "stream",
     "text": [
      "Enter the String sAHil\n",
      "After swapping the case of the string SahIL\n"
     ]
    }
   ],
   "source": [
    "#7. Python program to convert lower letter to upper and upper letter to lower in a string.\n",
    "str = input(\"Enter the String \")\n",
    "print(\"After swapping the case of the string\",str.swapcase())"
   ]
  },
  {
   "cell_type": "code",
   "execution_count": 16,
   "id": "2b2c74c8",
   "metadata": {},
   "outputs": [
    {
     "name": "stdout",
     "output_type": "stream",
     "text": [
      "Enter the String Welcome to Ahead\n",
      "Enter the word to search amrita\n",
      "amrita is not present \n"
     ]
    }
   ],
   "source": [
    "#8. python program to search a specific word in a string.\n",
    "str = input(\"Enter the String \")\n",
    "ser = input(\"Enter the word to search \")\n",
    "if ser in str:\n",
    "    print(ser, \"is present in the string\")\n",
    "else:\n",
    "    print(ser, \"is not present \")"
   ]
  },
  {
   "cell_type": "code",
   "execution_count": 19,
   "id": "226edd9a",
   "metadata": {},
   "outputs": [
    {
     "name": "stdout",
     "output_type": "stream",
     "text": [
      "The original string is : amrita vishwa vidyapeetham\n",
      "The number of words in string are :  26\n"
     ]
    }
   ],
   "source": [
    "#9. Write a program to count the number of letters in a word.\n",
    "test_string = \"amrita vishwa vidyapeetham\"\n",
    "print(\"The original string is : \" + test_string)\n",
    "res = len(test_string.split())\n",
    "print(\"The number of words in string are : \", len(test_string))\n"
   ]
  },
  {
   "cell_type": "code",
   "execution_count": 21,
   "id": "71800da8",
   "metadata": {},
   "outputs": [
    {
     "name": "stdout",
     "output_type": "stream",
     "text": [
      "Enter the string f@pYtHoN!$34l8&h\n",
      "Upper Counts: 3\n",
      "Lower Counts: 6\n",
      "Numeric Counts: 3\n",
      "Special Counts: 4\n"
     ]
    }
   ],
   "source": [
    "#10. Write a program in Python to count lower, upper, numeric and special characters in a string.\n",
    "def Count(str):\n",
    "    upper, lower, number, special = 0, 0, 0, 0\n",
    "    for i in range(len(str)):\n",
    "        if str[i].isupper():\n",
    "            upper += 1\n",
    "        elif str[i].islower():\n",
    "            lower += 1\n",
    "        elif str[i].isdigit():\n",
    "            number += 1\n",
    "        else:\n",
    "            special += 1\n",
    "    print('Upper Counts:', upper)\n",
    "    print('Lower Counts:', lower)\n",
    "    print('Numeric Counts:', number)\n",
    "    print('Special Counts:', special)\n",
    "str1 = input(\"Enter the string \")\n",
    "Count(str1)"
   ]
  },
  {
   "cell_type": "code",
   "execution_count": null,
   "id": "43f20e5f",
   "metadata": {},
   "outputs": [],
   "source": []
  }
 ],
 "metadata": {
  "kernelspec": {
   "display_name": "Python 3 (ipykernel)",
   "language": "python",
   "name": "python3"
  },
  "language_info": {
   "codemirror_mode": {
    "name": "ipython",
    "version": 3
   },
   "file_extension": ".py",
   "mimetype": "text/x-python",
   "name": "python",
   "nbconvert_exporter": "python",
   "pygments_lexer": "ipython3",
   "version": "3.9.12"
  }
 },
 "nbformat": 4,
 "nbformat_minor": 5
}
