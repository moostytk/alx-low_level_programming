{
 "cells": [
  {
   "cell_type": "code",
   "execution_count": 1,
   "id": "8433f6bf",
   "metadata": {},
   "outputs": [],
   "source": [
    "import numpy as np\n",
    "import pandas as pd\n",
    "import matplotlib.pyplot as plt\n",
    "from sklearn import preprocessing\n",
    "from sklearn.linear_model import LogisticRegression\n",
    "from sklearn.model_selection import train_test_split\n",
    "from sklearn.preprocessing import StandardScaler\n",
    "from sklearn.metrics import confusion_matrix\n",
    "import seaborn as sn"
   ]
  },
  {
   "cell_type": "code",
   "execution_count": 2,
   "id": "fe3c0dfa",
   "metadata": {},
   "outputs": [],
   "source": [
    "data=pd.read_csv(\"australian.csv.dat\")"
   ]
  },
  {
   "cell_type": "code",
   "execution_count": 3,
   "id": "ae20bbaf",
   "metadata": {},
   "outputs": [
    {
     "data": {
      "text/html": [
       "<div>\n",
       "<style scoped>\n",
       "    .dataframe tbody tr th:only-of-type {\n",
       "        vertical-align: middle;\n",
       "    }\n",
       "\n",
       "    .dataframe tbody tr th {\n",
       "        vertical-align: top;\n",
       "    }\n",
       "\n",
       "    .dataframe thead th {\n",
       "        text-align: right;\n",
       "    }\n",
       "</style>\n",
       "<table border=\"1\" class=\"dataframe\">\n",
       "  <thead>\n",
       "    <tr style=\"text-align: right;\">\n",
       "      <th></th>\n",
       "      <th>1</th>\n",
       "      <th>22.08</th>\n",
       "      <th>11.46</th>\n",
       "      <th>2</th>\n",
       "      <th>4</th>\n",
       "      <th>4.1</th>\n",
       "      <th>1.585</th>\n",
       "      <th>0</th>\n",
       "      <th>0.1</th>\n",
       "      <th>0.2</th>\n",
       "      <th>1.1</th>\n",
       "      <th>2.1</th>\n",
       "      <th>100</th>\n",
       "      <th>1213</th>\n",
       "      <th>0.3</th>\n",
       "    </tr>\n",
       "  </thead>\n",
       "  <tbody>\n",
       "    <tr>\n",
       "      <th>0</th>\n",
       "      <td>0</td>\n",
       "      <td>22.67</td>\n",
       "      <td>7.000</td>\n",
       "      <td>2</td>\n",
       "      <td>8</td>\n",
       "      <td>4</td>\n",
       "      <td>0.165</td>\n",
       "      <td>0</td>\n",
       "      <td>0</td>\n",
       "      <td>0</td>\n",
       "      <td>0</td>\n",
       "      <td>2</td>\n",
       "      <td>160</td>\n",
       "      <td>1</td>\n",
       "      <td>0</td>\n",
       "    </tr>\n",
       "    <tr>\n",
       "      <th>1</th>\n",
       "      <td>0</td>\n",
       "      <td>29.58</td>\n",
       "      <td>1.750</td>\n",
       "      <td>1</td>\n",
       "      <td>4</td>\n",
       "      <td>4</td>\n",
       "      <td>1.250</td>\n",
       "      <td>0</td>\n",
       "      <td>0</td>\n",
       "      <td>0</td>\n",
       "      <td>1</td>\n",
       "      <td>2</td>\n",
       "      <td>280</td>\n",
       "      <td>1</td>\n",
       "      <td>0</td>\n",
       "    </tr>\n",
       "    <tr>\n",
       "      <th>2</th>\n",
       "      <td>0</td>\n",
       "      <td>21.67</td>\n",
       "      <td>11.500</td>\n",
       "      <td>1</td>\n",
       "      <td>5</td>\n",
       "      <td>3</td>\n",
       "      <td>0.000</td>\n",
       "      <td>1</td>\n",
       "      <td>1</td>\n",
       "      <td>11</td>\n",
       "      <td>1</td>\n",
       "      <td>2</td>\n",
       "      <td>0</td>\n",
       "      <td>1</td>\n",
       "      <td>1</td>\n",
       "    </tr>\n",
       "    <tr>\n",
       "      <th>3</th>\n",
       "      <td>1</td>\n",
       "      <td>20.17</td>\n",
       "      <td>8.170</td>\n",
       "      <td>2</td>\n",
       "      <td>6</td>\n",
       "      <td>4</td>\n",
       "      <td>1.960</td>\n",
       "      <td>1</td>\n",
       "      <td>1</td>\n",
       "      <td>14</td>\n",
       "      <td>0</td>\n",
       "      <td>2</td>\n",
       "      <td>60</td>\n",
       "      <td>159</td>\n",
       "      <td>1</td>\n",
       "    </tr>\n",
       "    <tr>\n",
       "      <th>4</th>\n",
       "      <td>0</td>\n",
       "      <td>15.83</td>\n",
       "      <td>0.585</td>\n",
       "      <td>2</td>\n",
       "      <td>8</td>\n",
       "      <td>8</td>\n",
       "      <td>1.500</td>\n",
       "      <td>1</td>\n",
       "      <td>1</td>\n",
       "      <td>2</td>\n",
       "      <td>0</td>\n",
       "      <td>2</td>\n",
       "      <td>100</td>\n",
       "      <td>1</td>\n",
       "      <td>1</td>\n",
       "    </tr>\n",
       "    <tr>\n",
       "      <th>...</th>\n",
       "      <td>...</td>\n",
       "      <td>...</td>\n",
       "      <td>...</td>\n",
       "      <td>...</td>\n",
       "      <td>...</td>\n",
       "      <td>...</td>\n",
       "      <td>...</td>\n",
       "      <td>...</td>\n",
       "      <td>...</td>\n",
       "      <td>...</td>\n",
       "      <td>...</td>\n",
       "      <td>...</td>\n",
       "      <td>...</td>\n",
       "      <td>...</td>\n",
       "      <td>...</td>\n",
       "    </tr>\n",
       "    <tr>\n",
       "      <th>684</th>\n",
       "      <td>1</td>\n",
       "      <td>31.57</td>\n",
       "      <td>10.500</td>\n",
       "      <td>2</td>\n",
       "      <td>14</td>\n",
       "      <td>4</td>\n",
       "      <td>6.500</td>\n",
       "      <td>1</td>\n",
       "      <td>0</td>\n",
       "      <td>0</td>\n",
       "      <td>0</td>\n",
       "      <td>2</td>\n",
       "      <td>0</td>\n",
       "      <td>1</td>\n",
       "      <td>1</td>\n",
       "    </tr>\n",
       "    <tr>\n",
       "      <th>685</th>\n",
       "      <td>1</td>\n",
       "      <td>20.67</td>\n",
       "      <td>0.415</td>\n",
       "      <td>2</td>\n",
       "      <td>8</td>\n",
       "      <td>4</td>\n",
       "      <td>0.125</td>\n",
       "      <td>0</td>\n",
       "      <td>0</td>\n",
       "      <td>0</td>\n",
       "      <td>0</td>\n",
       "      <td>2</td>\n",
       "      <td>0</td>\n",
       "      <td>45</td>\n",
       "      <td>0</td>\n",
       "    </tr>\n",
       "    <tr>\n",
       "      <th>686</th>\n",
       "      <td>0</td>\n",
       "      <td>18.83</td>\n",
       "      <td>9.540</td>\n",
       "      <td>2</td>\n",
       "      <td>6</td>\n",
       "      <td>4</td>\n",
       "      <td>0.085</td>\n",
       "      <td>1</td>\n",
       "      <td>0</td>\n",
       "      <td>0</td>\n",
       "      <td>0</td>\n",
       "      <td>2</td>\n",
       "      <td>100</td>\n",
       "      <td>1</td>\n",
       "      <td>1</td>\n",
       "    </tr>\n",
       "    <tr>\n",
       "      <th>687</th>\n",
       "      <td>0</td>\n",
       "      <td>27.42</td>\n",
       "      <td>14.500</td>\n",
       "      <td>2</td>\n",
       "      <td>14</td>\n",
       "      <td>8</td>\n",
       "      <td>3.085</td>\n",
       "      <td>1</td>\n",
       "      <td>1</td>\n",
       "      <td>1</td>\n",
       "      <td>0</td>\n",
       "      <td>2</td>\n",
       "      <td>120</td>\n",
       "      <td>12</td>\n",
       "      <td>1</td>\n",
       "    </tr>\n",
       "    <tr>\n",
       "      <th>688</th>\n",
       "      <td>1</td>\n",
       "      <td>41.00</td>\n",
       "      <td>0.040</td>\n",
       "      <td>2</td>\n",
       "      <td>10</td>\n",
       "      <td>4</td>\n",
       "      <td>0.040</td>\n",
       "      <td>0</td>\n",
       "      <td>1</td>\n",
       "      <td>1</td>\n",
       "      <td>0</td>\n",
       "      <td>1</td>\n",
       "      <td>560</td>\n",
       "      <td>1</td>\n",
       "      <td>1</td>\n",
       "    </tr>\n",
       "  </tbody>\n",
       "</table>\n",
       "<p>689 rows × 15 columns</p>\n",
       "</div>"
      ],
      "text/plain": [
       "     1  22.08   11.46  2   4  4.1  1.585  0  0.1  0.2  1.1  2.1  100  1213  \\\n",
       "0    0  22.67   7.000  2   8    4  0.165  0    0    0    0    2  160     1   \n",
       "1    0  29.58   1.750  1   4    4  1.250  0    0    0    1    2  280     1   \n",
       "2    0  21.67  11.500  1   5    3  0.000  1    1   11    1    2    0     1   \n",
       "3    1  20.17   8.170  2   6    4  1.960  1    1   14    0    2   60   159   \n",
       "4    0  15.83   0.585  2   8    8  1.500  1    1    2    0    2  100     1   \n",
       "..  ..    ...     ... ..  ..  ...    ... ..  ...  ...  ...  ...  ...   ...   \n",
       "684  1  31.57  10.500  2  14    4  6.500  1    0    0    0    2    0     1   \n",
       "685  1  20.67   0.415  2   8    4  0.125  0    0    0    0    2    0    45   \n",
       "686  0  18.83   9.540  2   6    4  0.085  1    0    0    0    2  100     1   \n",
       "687  0  27.42  14.500  2  14    8  3.085  1    1    1    0    2  120    12   \n",
       "688  1  41.00   0.040  2  10    4  0.040  0    1    1    0    1  560     1   \n",
       "\n",
       "     0.3  \n",
       "0      0  \n",
       "1      0  \n",
       "2      1  \n",
       "3      1  \n",
       "4      1  \n",
       "..   ...  \n",
       "684    1  \n",
       "685    0  \n",
       "686    1  \n",
       "687    1  \n",
       "688    1  \n",
       "\n",
       "[689 rows x 15 columns]"
      ]
     },
     "execution_count": 3,
     "metadata": {},
     "output_type": "execute_result"
    }
   ],
   "source": [
    "data"
   ]
  },
  {
   "cell_type": "code",
   "execution_count": 4,
   "id": "3d165cfc",
   "metadata": {},
   "outputs": [
    {
     "data": {
      "text/plain": [
       "1        0\n",
       "22.08    0\n",
       "11.46    0\n",
       "2        0\n",
       "4        0\n",
       "4.1      0\n",
       "1.585    0\n",
       "0        0\n",
       "0.1      0\n",
       "0.2      0\n",
       "1.1      0\n",
       "2.1      0\n",
       "100      0\n",
       "1213     0\n",
       "0.3      0\n",
       "dtype: int64"
      ]
     },
     "execution_count": 4,
     "metadata": {},
     "output_type": "execute_result"
    }
   ],
   "source": [
    "data.isna().sum()"
   ]
  },
  {
   "cell_type": "code",
   "execution_count": 5,
   "id": "d1b72826",
   "metadata": {},
   "outputs": [],
   "source": [
    "X = data.iloc[:, :-1].values      \n",
    "Y = data.iloc[:, [-1]].values.reshape(-1)"
   ]
  },
  {
   "cell_type": "code",
   "execution_count": null,
   "id": "2abebc5e",
   "metadata": {},
   "outputs": [],
   "source": []
  },
  {
   "cell_type": "code",
   "execution_count": null,
   "id": "6ba25e81",
   "metadata": {},
   "outputs": [],
   "source": []
  },
  {
   "cell_type": "markdown",
   "id": "0615fc82",
   "metadata": {},
   "source": [
    "d. Use min-max normalization to bring all features in similar range.\n"
   ]
  },
  {
   "cell_type": "code",
   "execution_count": 6,
   "id": "e9822b2c",
   "metadata": {},
   "outputs": [
    {
     "data": {
      "text/plain": [
       "array([[-1.4503805 , -0.75220801,  0.45277175, ...,  0.23800995,\n",
       "        -0.14022253, -0.19521767],\n",
       "       [-1.4503805 , -0.168975  , -0.60322566, ...,  0.23800995,\n",
       "         0.55692711, -0.19521767],\n",
       "       [-1.4503805 , -0.83661221,  1.35791239, ...,  0.23800995,\n",
       "        -1.06975537, -0.19521767],\n",
       "       ...,\n",
       "       [-1.4503805 , -1.07632014,  0.96367335, ...,  0.23800995,\n",
       "        -0.48879734, -0.19521767],\n",
       "       [-1.4503805 , -0.35128807,  1.96133948, ...,  0.23800995,\n",
       "        -0.37260574, -0.19310638],\n",
       "       [ 0.68947424,  0.79492095, -0.9471791 , ..., -3.10870136,\n",
       "         2.18360958, -0.19521767]])"
      ]
     },
     "execution_count": 6,
     "metadata": {},
     "output_type": "execute_result"
    }
   ],
   "source": [
    "scaler=StandardScaler().fit(X) #fit data for standardizati\n",
    "scaler.transform(X) "
   ]
  },
  {
   "cell_type": "markdown",
   "id": "176e548e",
   "metadata": {},
   "source": [
    "2. Split the dataset into training and testing data"
   ]
  },
  {
   "cell_type": "code",
   "execution_count": 7,
   "id": "baf9a6d0",
   "metadata": {},
   "outputs": [],
   "source": [
    "X_train, X_test, y_train, y_test = train_test_split(X, Y, test_size=0.20)"
   ]
  },
  {
   "cell_type": "markdown",
   "id": "6bedeb24",
   "metadata": {},
   "source": [
    "Apply SVM classifier using SVC function\n",
    "a. The parameters can be linear kernel and C value.\n",
    "b. For different values of parameter ‘C’, plot the accuracy of the test dataset.\n"
   ]
  },
  {
   "cell_type": "code",
   "execution_count": 8,
   "id": "39863fb5",
   "metadata": {},
   "outputs": [
    {
     "data": {
      "text/plain": [
       "SVC(C=1)"
      ]
     },
     "execution_count": 8,
     "metadata": {},
     "output_type": "execute_result"
    }
   ],
   "source": [
    "from sklearn import svm\n",
    "clf = svm.SVC(C=1)\n",
    "\n",
    "clf.fit(X_train, y_train)"
   ]
  },
  {
   "cell_type": "code",
   "execution_count": 9,
   "id": "badda48e",
   "metadata": {},
   "outputs": [],
   "source": [
    "ypred = clf.predict(X_test)"
   ]
  },
  {
   "cell_type": "code",
   "execution_count": 10,
   "id": "d30fa3e6",
   "metadata": {},
   "outputs": [],
   "source": [
    "from sklearn.metrics import accuracy_score"
   ]
  },
  {
   "cell_type": "code",
   "execution_count": 11,
   "id": "9517681f",
   "metadata": {},
   "outputs": [
    {
     "data": {
      "text/plain": [
       "0.6304347826086957"
      ]
     },
     "execution_count": 11,
     "metadata": {},
     "output_type": "execute_result"
    }
   ],
   "source": [
    "accuracy_score(y_test, ypred) #get the accuracy of the model"
   ]
  },
  {
   "cell_type": "markdown",
   "id": "fc5da027",
   "metadata": {},
   "source": [
    "For different values of parameter ‘C’, plot the accuracy of the test dataset.\n"
   ]
  },
  {
   "cell_type": "code",
   "execution_count": 12,
   "id": "fb721eab",
   "metadata": {},
   "outputs": [],
   "source": [
    "C = [0.5, 1, 2, 2.5, 3, 3.5, 4]\n",
    "accuracy = []\n",
    "for number in C:\n",
    "    clf = svm.SVC(C=number)\n",
    "    clf.fit(X_train, y_train)\n",
    "    ypred = clf.predict(X_test)\n",
    "    accuc = accuracy_score(y_test, ypred)\n",
    "    accuracy.append(accuc)\n",
    "    \n",
    "    "
   ]
  },
  {
   "cell_type": "code",
   "execution_count": 13,
   "id": "d72b4152",
   "metadata": {},
   "outputs": [
    {
     "data": {
      "text/plain": [
       "<function matplotlib.pyplot.show(close=None, block=None)>"
      ]
     },
     "execution_count": 13,
     "metadata": {},
     "output_type": "execute_result"
    },
    {
     "data": {
      "image/png": "[encoded data removed]",
      "text/plain": [
       "<Figure size 432x288 with 1 Axes>"
      ]
     },
     "metadata": {
      "needs_background": "light"
     },
     "output_type": "display_data"
    }
   ],
   "source": [
    "plt.plot(C,accuracy)\n",
    "plt.xlabel(\"C\")\n",
    "plt.ylabel(\"Accuracy\")\n",
    "plt.title(\"Plot of C & Accuracy\")\n",
    "plt.show"
   ]
  },
  {
   "cell_type": "markdown",
   "id": "9419b0d1",
   "metadata": {},
   "source": [
    "4. Does the accuracy change if the kernel function changes? Use Poly kernel as well as \n",
    "RBF kernel to check the accuracy"
   ]
  },
  {
   "cell_type": "code",
   "execution_count": null,
   "id": "7e2013d2",
   "metadata": {},
   "outputs": [],
   "source": [
    "clf = svm.SVC(kernel= \"linear\")   #Accuracy for linear Kernel\n",
    "\n",
    "clf.fit(X_train, y_train)\n",
    "ypred = clf.predict(X_test)\n",
    "acc1 =accuracy_score(y_test, ypred)\n",
    "acc1"
   ]
  },
  {
   "cell_type": "code",
   "execution_count": null,
   "id": "9eb18527",
   "metadata": {},
   "outputs": [],
   "source": [
    "clf = svm.SVC(kernel = \"poly\")  #Accuaracy for poly kernel\n",
    "clf.fit(X_train, y_train)\n",
    "ypred = clf.predict(X_test)\n",
    "acc2 =accuracy_score(y_test, ypred)\n",
    "acc2\n",
    "#The accuracy depends on the kernel function"
   ]
  },
  {
   "cell_type": "code",
   "execution_count": null,
   "id": "dd9cfa7a",
   "metadata": {},
   "outputs": [],
   "source": []
  }
 ],
 "metadata": {
  "kernelspec": {
   "display_name": "Python 3 (ipykernel)",
   "language": "python",
   "name": "python3"
  },
  "language_info": {
   "codemirror_mode": {
    "name": "ipython",
    "version": 3
   },
   "file_extension": ".py",
   "mimetype": "text/x-python",
   "name": "python",
   "nbconvert_exporter": "python",
   "pygments_lexer": "ipython3",
   "version": "3.9.12"
  }
 },
 "nbformat": 4,
 "nbformat_minor": 5
}
