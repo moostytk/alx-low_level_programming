{
 "cells": [
  {
   "cell_type": "markdown",
   "id": "6cc687d1",
   "metadata": {},
   "source": [
    "# Name: Almustapha Tukur\n",
    "Roll No: AA.SC.P2MCA2107209"
   ]
  },
  {
   "cell_type": "code",
   "execution_count": 42,
   "id": "c82d19d6",
   "metadata": {},
   "outputs": [],
   "source": [
    "import matplotlib.pyplot as plt\n",
    "from sklearn.cluster import KMeans\n",
    "import numpy as np"
   ]
  },
  {
   "cell_type": "markdown",
   "id": "5bf9978d",
   "metadata": {},
   "source": [
    "1. Generate 100 random 2-d data points."
   ]
  },
  {
   "cell_type": "code",
   "execution_count": 33,
   "id": "6edc7b55",
   "metadata": {},
   "outputs": [],
   "source": [
    "X= np.random.randn(100,2)  # generate 100 2d points"
   ]
  },
  {
   "cell_type": "code",
   "execution_count": 34,
   "id": "e9759b10",
   "metadata": {},
   "outputs": [
    {
     "data": {
      "text/plain": [
       "array([[-3.85458198e-01,  1.39429919e-01],\n",
       "       [-8.75252381e-01, -6.33004819e-01],\n",
       "       [ 1.41615001e+00, -1.86185579e-01],\n",
       "       [-2.54334932e-01,  7.36194728e-01],\n",
       "       [ 1.29806049e+00,  1.24190980e+00],\n",
       "       [-1.04000023e+00, -1.37903762e+00],\n",
       "       [ 1.27504468e+00, -2.81041556e-02],\n",
       "       [-7.89456786e-02,  9.73874946e-01],\n",
       "       [-4.94748274e-01,  1.46401651e+00],\n",
       "       [ 7.58986592e-01,  8.47079423e-01],\n",
       "       [ 1.10117471e-01, -9.03085157e-01],\n",
       "       [-1.78655165e+00, -1.69764715e-01],\n",
       "       [ 1.20239374e+00,  7.08512843e-01],\n",
       "       [-1.14375326e+00, -3.49857420e-01],\n",
       "       [-7.68298172e-01,  3.78369300e-01],\n",
       "       [ 4.91410496e-01,  2.04393980e-01],\n",
       "       [-1.30491678e+00, -5.50093454e-01],\n",
       "       [-2.33632384e-01,  7.33986389e-01],\n",
       "       [ 1.35707719e+00,  6.82121187e-01],\n",
       "       [ 8.77985005e-01, -8.52671478e-01],\n",
       "       [ 1.97845091e+00, -5.18597187e-01],\n",
       "       [ 7.19107869e-01, -2.94312308e-01],\n",
       "       [ 2.95336572e-01,  7.43073986e-01],\n",
       "       [ 1.95010824e+00,  8.46415148e-01],\n",
       "       [-7.25304692e-01, -1.53310950e+00],\n",
       "       [ 4.76156576e-01, -2.97441840e+00],\n",
       "       [ 3.66347131e-01,  1.73257706e-01],\n",
       "       [-8.41403812e-01,  1.37685158e-01],\n",
       "       [ 1.62615129e+00, -6.05209474e-01],\n",
       "       [-1.54023003e+00,  1.05080508e+00],\n",
       "       [-8.94638970e-01,  1.89357545e+00],\n",
       "       [-1.33173173e+00, -4.08534715e-01],\n",
       "       [ 2.05585114e+00,  2.39372642e-02],\n",
       "       [-1.10114646e-01,  1.18178498e+00],\n",
       "       [ 1.94495941e-01, -2.35958209e-01],\n",
       "       [-1.12552443e+00, -9.93098813e-01],\n",
       "       [-4.36343089e-01, -1.00442072e+00],\n",
       "       [ 3.90228089e-01, -3.00504595e-01],\n",
       "       [ 4.62265416e-01, -5.57078065e-01],\n",
       "       [-1.47112086e+00,  3.15410708e-01],\n",
       "       [-1.49926293e+00, -4.31658485e-02],\n",
       "       [ 8.53510287e-01,  1.32679284e+00],\n",
       "       [-1.14294607e+00, -2.23837737e-01],\n",
       "       [ 5.40956555e-02, -9.99979050e-01],\n",
       "       [-2.83010309e-01, -1.59183258e+00],\n",
       "       [-2.05260550e-01,  1.67600843e+00],\n",
       "       [-1.93207385e-01, -8.17201189e-01],\n",
       "       [ 1.98028159e-02,  3.38227716e+00],\n",
       "       [-1.30425497e+00, -5.37810216e-01],\n",
       "       [ 1.15079572e+00, -7.31672888e-01],\n",
       "       [-3.33568178e-01, -6.45672124e-01],\n",
       "       [-7.12022360e-01, -2.67104155e-01],\n",
       "       [ 8.71285853e-01, -9.39957410e-01],\n",
       "       [ 7.63215583e-01, -1.47511389e+00],\n",
       "       [-2.61510968e-01,  8.52134745e-01],\n",
       "       [-1.65604293e+00,  1.72527948e+00],\n",
       "       [ 1.50430337e-01,  2.16696973e-01],\n",
       "       [ 1.78154930e+00,  1.55909970e+00],\n",
       "       [ 7.01426388e-01, -6.75700125e-01],\n",
       "       [-4.90454129e-01, -1.51409179e+00],\n",
       "       [ 5.26072645e-01, -2.83906352e+00],\n",
       "       [-1.23063301e+00, -2.64534495e-01],\n",
       "       [-5.80403482e-01, -1.05586634e+00],\n",
       "       [-4.57684223e-01, -6.81171093e-02],\n",
       "       [-1.10558937e+00,  5.57453692e-01],\n",
       "       [-2.91794018e-01,  8.74117270e-01],\n",
       "       [ 3.41629939e-01,  1.02273890e+00],\n",
       "       [ 6.38374495e-01,  7.55106181e-01],\n",
       "       [ 1.69077304e+00,  1.19684239e-03],\n",
       "       [ 1.00949293e+00, -1.51520549e+00],\n",
       "       [-5.11443612e-01,  7.07541210e-01],\n",
       "       [ 7.07019063e-01,  2.68044443e-01],\n",
       "       [-7.70425521e-01,  6.90315421e-01],\n",
       "       [-8.83631935e-01, -2.12407461e-01],\n",
       "       [ 4.79750840e-01,  9.04764956e-01],\n",
       "       [-8.29959052e-01,  3.84349253e-01],\n",
       "       [ 1.14971489e+00,  4.67298497e-02],\n",
       "       [-1.51749928e+00, -3.12605331e-01],\n",
       "       [-7.24120224e-01, -2.42102784e+00],\n",
       "       [ 6.32537584e-02,  1.07279335e+00],\n",
       "       [-1.66186546e+00, -3.47148341e-01],\n",
       "       [ 1.11553933e-01, -1.04682568e+00],\n",
       "       [ 1.59929687e+00, -2.26952876e-01],\n",
       "       [ 1.51512996e+00, -1.08392544e+00],\n",
       "       [ 3.22023885e-01, -1.93452220e+00],\n",
       "       [ 4.36236173e-01,  1.23741467e+00],\n",
       "       [ 6.82413619e-02,  6.76236387e-01],\n",
       "       [-6.01409694e-01, -2.87015182e-01],\n",
       "       [ 8.09582014e-01,  7.98133714e-01],\n",
       "       [-3.35767285e-01,  2.83118080e-01],\n",
       "       [-2.31056216e+00, -2.18765386e+00],\n",
       "       [ 1.03254917e+00, -1.22238837e+00],\n",
       "       [ 1.06974521e+00,  2.65461668e-02],\n",
       "       [ 2.11099193e-01, -1.76413725e+00],\n",
       "       [-1.32579483e+00, -5.86571326e-01],\n",
       "       [-5.07135003e-01, -3.67668166e-01],\n",
       "       [ 7.34929968e-01,  8.31394832e-01],\n",
       "       [ 6.33263771e-01,  1.40047605e+00],\n",
       "       [ 5.30263569e-01,  1.37479221e+00],\n",
       "       [-1.22494608e+00,  1.59657000e+00]])"
      ]
     },
     "execution_count": 34,
     "metadata": {},
     "output_type": "execute_result"
    }
   ],
   "source": [
    "X"
   ]
  },
  {
   "cell_type": "markdown",
   "id": "2bd5176f",
   "metadata": {},
   "source": [
    "2. Plot the points in a 2 dimensional space."
   ]
  },
  {
   "cell_type": "code",
   "execution_count": 35,
   "id": "42ee15d0",
   "metadata": {},
   "outputs": [
    {
     "data": {
      "image/png": "[encoded data removed]",
      "text/plain": [
       "<Figure size 432x288 with 1 Axes>"
      ]
     },
     "metadata": {
      "needs_background": "light"
     },
     "output_type": "display_data"
    }
   ],
   "source": [
    "plt.scatter(X[:,0], X[:,1])\n",
    "plt.title(\"Two Dimensional Plot of the Data\")\n",
    "plt.show()"
   ]
  },
  {
   "cell_type": "markdown",
   "id": "1aeddc92",
   "metadata": {},
   "source": [
    "3. Apply K-means Algorithm\n",
    "a. from sklearn.cluster import KMeans\n",
    "b. Kmean = KMeans(n_clusters=2)\n",
    "c. Kmean.fit(X)\n",
    "d. Where X is the 2-d matrix generated in Q.1"
   ]
  },
  {
   "cell_type": "code",
   "execution_count": 36,
   "id": "ff7b806b",
   "metadata": {},
   "outputs": [
    {
     "data": {
      "text/plain": [
       "KMeans(n_clusters=2)"
      ]
     },
     "execution_count": 36,
     "metadata": {},
     "output_type": "execute_result"
    }
   ],
   "source": [
    "Kmean = KMeans(n_clusters=2)\n",
    "Kmean.fit(X)"
   ]
  },
  {
   "cell_type": "markdown",
   "id": "133efe4a",
   "metadata": {},
   "source": [
    "4. Find the centroid of clusters generated."
   ]
  },
  {
   "cell_type": "code",
   "execution_count": 37,
   "id": "5b1453b9",
   "metadata": {},
   "outputs": [
    {
     "name": "stdout",
     "output_type": "stream",
     "text": [
      "[[-0.39711207 -0.88273675]\n",
      " [ 0.35759045  0.73868269]]\n"
     ]
    }
   ],
   "source": [
    "centroids= Kmean.cluster_centers_\n",
    "print(centroids)"
   ]
  },
  {
   "cell_type": "code",
   "execution_count": 38,
   "id": "01839d48",
   "metadata": {},
   "outputs": [
    {
     "data": {
      "image/png": "[encoded data removed]",
      "text/plain": [
       "<Figure size 432x288 with 1 Axes>"
      ]
     },
     "metadata": {
      "needs_background": "light"
     },
     "output_type": "display_data"
    }
   ],
   "source": [
    "plt.scatter(X[:,0], X[:,1], c=Kmean.labels_)  #Visualize the two clusters\n",
    "plt.title(\"Diagram Showing The Clusters\")\n",
    "plt.show()"
   ]
  },
  {
   "cell_type": "markdown",
   "id": "e8828386",
   "metadata": {},
   "source": [
    "5.Compute the average distance of data points with corresponding cluster centroid."
   ]
  },
  {
   "cell_type": "code",
   "execution_count": 40,
   "id": "ce3acf92",
   "metadata": {},
   "outputs": [
    {
     "name": "stdout",
     "output_type": "stream",
     "text": [
      "[1.006875233476003, 1.0441331211888707]\n"
     ]
    }
   ],
   "source": [
    "x= X[:,0]\n",
    "y= X[:,1]\n",
    "def k_mean_distance(data, c1, c2, i_centroid, cluster_labels):\n",
    "        distances = [np.sqrt((x-cx)**2+(y-cy)**2) for (x, y) in data[cluster_labels == i_centroid]]\n",
    "        return np.mean(distances)\n",
    "    \n",
    "clusters=Kmean.fit_predict(X)\n",
    "centroids = Kmean.cluster_centers_\n",
    "\n",
    "distances = []\n",
    "for i, (cx, cy) in enumerate(centroids):\n",
    "    mean_distance = k_mean_distance(X, cx, cy, i, clusters)\n",
    "    distances.append(mean_distance)\n",
    "\n",
    "print(distances)"
   ]
  },
  {
   "cell_type": "markdown",
   "id": "1ddcf33f",
   "metadata": {},
   "source": [
    "6. Display the cluster centroids (using green and red color)"
   ]
  },
  {
   "cell_type": "code",
   "execution_count": 41,
   "id": "d0392a99",
   "metadata": {},
   "outputs": [
    {
     "data": {
      "image/png": "[encoded data removed]",
      "text/plain": [
       "<Figure size 432x288 with 1 Axes>"
      ]
     },
     "metadata": {
      "needs_background": "light"
     },
     "output_type": "display_data"
    }
   ],
   "source": [
    "plt.scatter(X[ : , 0], X[ : , 1], s =50, c=Kmean.labels_)\n",
    "plt.scatter(-0.94665068, -0.97138368, s=200, c='g', marker='s')\n",
    "plt.scatter(2.01559419, 2.02597093, s=200, c='r', marker='s')\n",
    "plt.show()"
   ]
  },
  {
   "cell_type": "markdown",
   "id": "46b9b090",
   "metadata": {},
   "source": [
    "7. Get the labels property of the K-means clustering example dataset;"
   ]
  },
  {
   "cell_type": "code",
   "execution_count": 30,
   "id": "ed5ebbec",
   "metadata": {},
   "outputs": [
    {
     "data": {
      "text/plain": [
       "array([1, 0, 1, 1, 0, 1, 0, 1, 1, 1, 1, 1, 0, 1, 0, 1, 0, 0, 0, 1, 1, 0,\n",
       "       1, 1, 1, 1, 0, 1, 0, 0, 0, 1, 1, 1, 1, 0, 1, 1, 0, 1, 1, 1, 1, 1,\n",
       "       0, 1, 1, 1, 0, 1, 1, 0, 0, 1, 0, 0, 1, 0, 1, 1, 1, 0, 0, 1, 1, 0,\n",
       "       0, 0, 0, 0, 1, 1, 1, 1, 1, 1, 0, 0, 1, 1, 1, 1, 1, 1, 0, 1, 1, 1,\n",
       "       0, 1, 1, 1, 0, 1, 0, 0, 0, 0, 0, 0])"
      ]
     },
     "execution_count": 30,
     "metadata": {},
     "output_type": "execute_result"
    }
   ],
   "source": [
    "Kmean.labels_"
   ]
  },
  {
   "cell_type": "markdown",
   "id": "58db6a88",
   "metadata": {},
   "source": [
    "8. Predict the cluster of a data point:\n"
   ]
  },
  {
   "cell_type": "code",
   "execution_count": 17,
   "id": "ce3d350a",
   "metadata": {},
   "outputs": [
    {
     "data": {
      "text/plain": [
       "array([0])"
      ]
     },
     "execution_count": 17,
     "metadata": {},
     "output_type": "execute_result"
    }
   ],
   "source": [
    "sample_test=np.array([-3.0,-3.0])\n",
    "second_test=sample_test.reshape(1, -1)\n",
    "Kmean.predict(second_test)"
   ]
  },
  {
   "cell_type": "code",
   "execution_count": null,
   "id": "36e6e67b",
   "metadata": {},
   "outputs": [],
   "source": []
  }
 ],
 "metadata": {
  "kernelspec": {
   "display_name": "Python 3 (ipykernel)",
   "language": "python",
   "name": "python3"
  },
  "language_info": {
   "codemirror_mode": {
    "name": "ipython",
    "version": 3
   },
   "file_extension": ".py",
   "mimetype": "text/x-python",
   "name": "python",
   "nbconvert_exporter": "python",
   "pygments_lexer": "ipython3",
   "version": "3.9.12"
  }
 },
 "nbformat": 4,
 "nbformat_minor": 5
}
